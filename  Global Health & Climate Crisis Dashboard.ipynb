{
 "cells": [
  {
   "cell_type": "code",
   "execution_count": 6,
   "id": "1dcfef1c",
   "metadata": {},
   "outputs": [
    {
     "name": "stdout",
     "output_type": "stream",
     "text": [
      "True\n"
     ]
    }
   ],
   "source": [
    "import pandas as pd\n",
    "import os\n",
    "\n",
    "# 1. CLEAN CO2 EMISSIONS\n",
    "\n",
    "\n",
    "co2_df = pd.read_csv(\"co2_emission_2000_2023.csv\")\n",
    "co2_df = co2_df[['country', 'iso_code', 'year', 'co2']]\n",
    "co2_df = co2_df[(co2_df['year'] >= 2000) & (co2_df['year'] <= 2023)]\n",
    "co2_df.dropna(subset=['co2'], inplace=True)\n",
    "co2_df.rename(columns={\n",
    "    'country': 'Country',\n",
    "    'iso_code': 'Country Code',\n",
    "    'year': 'Year',\n",
    "    'co2': 'CO2_Emissions'\n",
    "}, inplace=True)\n",
    "\n",
    "\n",
    "\n",
    "# 2. CLEAN PM2.5\n",
    "\n",
    "\n",
    "pm25_df = pd.read_csv(\"pm25_air_pollution.csv\")\n",
    "pm25_long = pd.melt(pm25_df, id_vars=[\"Country\", \"Country Code\"],\n",
    "                    var_name=\"Year\", value_name=\"PM2.5\")\n",
    "pm25_long[\"Year\"] = pm25_long[\"Year\"].astype(int)\n",
    "\n",
    "\n",
    "# 3. CLEAN TEMPERATURE\n",
    "\n",
    "\n",
    "temp_df = pd.read_csv(\"avg_temperature.csv\")\n",
    "temp_df.rename(columns={\"ISO3\": \"Country Code\"}, inplace=True)\n",
    "temp_df = temp_df[(temp_df[\"Year\"] >= 2000) & (temp_df[\"Year\"] <= 2023)]\n",
    "\n",
    "\n",
    "# 4. CLEAN HEALTH DATA (Death Rate)\n",
    "\n",
    "\n",
    "health_df = pd.read_csv(\"air_pollution_health.csv\")\n",
    "health_df = health_df.rename(columns={\n",
    "    \"Entity\": \"Country\",\n",
    "    \"Death rate from air pollution (IHME) (per 100,000 population)\": \"Death_Rate\"\n",
    "})\n",
    "health_df = health_df[[\"Country\", \"Year\", \"Death_Rate\"]]\n",
    "health_df = health_df[(health_df[\"Year\"] >= 2000) & (health_df[\"Year\"] <= 2023)]\n",
    "health_df.dropna(subset=[\"Death_Rate\"], inplace=True)\n",
    "\n",
    "\n",
    "# 5. MERGE PM2.5 + TEMP\n",
    "\n",
    "\n",
    "pm25_temp = pd.merge(pm25_long, temp_df, how=\"inner\", on=[\"Country Code\", \"Year\"])\n",
    "pm25_temp.drop(columns=[\"Country_y\"], inplace=True)\n",
    "pm25_temp.rename(columns={\"Country_x\": \"Country\"}, inplace=True)\n",
    "\n",
    "\n",
    "# 6. MERGE with CO2\n",
    "\n",
    "\n",
    "merged1 = pd.merge(pm25_temp, co2_df, how=\"inner\", on=[\"Country Code\", \"Year\"])\n",
    "merged1.drop(columns=[\"Country_y\"], inplace=True)\n",
    "merged1.rename(columns={\"Country_x\": \"Country\"}, inplace=True)\n",
    "\n",
    "\n",
    "# 7. MERGE with HEALTH DATA\n",
    "\n",
    "\n",
    "final_df = pd.merge(merged1, health_df, how=\"inner\", on=[\"Country\", \"Year\"])\n",
    "\n",
    "\n",
    "# 8. EXPORT FINAL DATASET\n",
    "\n",
    "output_path = r\"C:\\Users\\prera\\OneDrive\\Documents\\final_climate_health_data.csv\"\n",
    "final_df.to_csv(output_path, index=False)\n",
    "\n",
    "\n",
    "print(os.path.exists(\"final_climate_health_data.csv\"))\n",
    "\n"
   ]
  },
  {
   "cell_type": "code",
   "execution_count": null,
   "id": "b9508c1f",
   "metadata": {},
   "outputs": [],
   "source": []
  },
  {
   "cell_type": "code",
   "execution_count": null,
   "id": "893b06fe",
   "metadata": {},
   "outputs": [],
   "source": []
  },
  {
   "cell_type": "code",
   "execution_count": null,
   "id": "c6efa91d",
   "metadata": {},
   "outputs": [],
   "source": []
  },
  {
   "cell_type": "code",
   "execution_count": null,
   "id": "f898bd5e",
   "metadata": {},
   "outputs": [],
   "source": []
  },
  {
   "cell_type": "code",
   "execution_count": null,
   "id": "7e8d838c",
   "metadata": {},
   "outputs": [],
   "source": []
  }
 ],
 "metadata": {
  "kernelspec": {
   "display_name": "Python 3 (ipykernel)",
   "language": "python",
   "name": "python3"
  },
  "language_info": {
   "codemirror_mode": {
    "name": "ipython",
    "version": 3
   },
   "file_extension": ".py",
   "mimetype": "text/x-python",
   "name": "python",
   "nbconvert_exporter": "python",
   "pygments_lexer": "ipython3",
   "version": "3.11.7"
  }
 },
 "nbformat": 4,
 "nbformat_minor": 5
}
